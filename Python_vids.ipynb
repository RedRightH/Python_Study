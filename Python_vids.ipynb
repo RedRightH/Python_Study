{
  "nbformat": 4,
  "nbformat_minor": 0,
  "metadata": {
    "colab": {
      "provenance": [],
      "authorship_tag": "ABX9TyPE2jTbIiW0aCFPx6DdLhSG",
      "include_colab_link": true
    },
    "kernelspec": {
      "name": "python3",
      "display_name": "Python 3"
    },
    "language_info": {
      "name": "python"
    }
  },
  "cells": [
    {
      "cell_type": "markdown",
      "metadata": {
        "id": "view-in-github",
        "colab_type": "text"
      },
      "source": [
        "<a href=\"https://colab.research.google.com/github/RedRightH/Python_Study/blob/main/Python_vids.ipynb\" target=\"_parent\"><img src=\"https://colab.research.google.com/assets/colab-badge.svg\" alt=\"Open In Colab\"/></a>"
      ]
    },
    {
      "cell_type": "markdown",
      "source": [
        "Vid #2 Strings"
      ],
      "metadata": {
        "id": "xt6tATLDzh_J"
      }
    },
    {
      "cell_type": "code",
      "source": [
        "print('Hello World')"
      ],
      "metadata": {
        "colab": {
          "base_uri": "https://localhost:8080/"
        },
        "id": "yrGerGydzmc2",
        "outputId": "b5cdaa97-fa80-4d18-c6f5-7ada6ea1d3de"
      },
      "execution_count": null,
      "outputs": [
        {
          "output_type": "stream",
          "name": "stdout",
          "text": [
            "Hello World\n"
          ]
        }
      ]
    },
    {
      "cell_type": "code",
      "source": [
        "message = 'Bobby\\'s World'\n",
        "my_line = ''' Super Tux Cart\n",
        "    Super Mario '''\n",
        "print(message)\n",
        "print(my_line)\n",
        "print(message[1:4])\n",
        "print(message[:4])\n",
        "print(message[4:])\n",
        "print(message[4:].upper())\n",
        "print(message[:4].count('b'))\n",
        "print(message[:4].count('l'))\n",
        "\n",
        "if message[:4].count('l') == 0:\n",
        "  print(\"'l' is not present in the string\")\n",
        "\n",
        "print(message[:4].find('b')) #return index of first instance of the string\n",
        "print(message[:4].find('l')) #else returns -1\n",
        "\n",
        "\n",
        "message.replace('Bobby\\'s','Suchit\\'s') #doesn't update with the replacement\n",
        "print(message)\n",
        "message = message.replace('Bobby\\'s','Suchit\\'s')\n",
        "print(message)"
      ],
      "metadata": {
        "colab": {
          "base_uri": "https://localhost:8080/"
        },
        "id": "QCYECwEczst1",
        "outputId": "5985e1a4-9c8c-4d47-cfad-caf9ff18aba0"
      },
      "execution_count": null,
      "outputs": [
        {
          "output_type": "stream",
          "name": "stdout",
          "text": [
            "Bobby's World\n",
            " Super Tux Cart\n",
            "    Super Mario \n",
            "obb\n",
            "Bobb\n",
            "y's World\n",
            "Y'S WORLD\n",
            "2\n",
            "0\n",
            "'l' is not present in the string\n",
            "2\n",
            "-1\n",
            "Bobby's World\n",
            "Suchit's World\n"
          ]
        }
      ]
    },
    {
      "cell_type": "code",
      "source": [
        "greeting = 'Hello'\n",
        "name = 'Micheal'\n",
        "\n",
        "message1= '{}, {}. Welcome!'.format(greeting,name)\n",
        "print(message1)\n",
        "message2= f'{greeting}, {name.upper()}. Welcome!'\n",
        "print(message2)\n",
        "\n",
        "\n",
        "print(dir(name))"
      ],
      "metadata": {
        "colab": {
          "base_uri": "https://localhost:8080/"
        },
        "id": "RGsqwQ782j3U",
        "outputId": "60133ffb-1e0d-4723-9378-8dd7479a6fef"
      },
      "execution_count": null,
      "outputs": [
        {
          "output_type": "stream",
          "name": "stdout",
          "text": [
            "Hello, Micheal. Welcome!\n",
            "Hello, MICHEAL. Welcome!\n",
            "['__add__', '__class__', '__contains__', '__delattr__', '__dir__', '__doc__', '__eq__', '__format__', '__ge__', '__getattribute__', '__getitem__', '__getnewargs__', '__gt__', '__hash__', '__init__', '__init_subclass__', '__iter__', '__le__', '__len__', '__lt__', '__mod__', '__mul__', '__ne__', '__new__', '__reduce__', '__reduce_ex__', '__repr__', '__rmod__', '__rmul__', '__setattr__', '__sizeof__', '__str__', '__subclasshook__', 'capitalize', 'casefold', 'center', 'count', 'encode', 'endswith', 'expandtabs', 'find', 'format', 'format_map', 'index', 'isalnum', 'isalpha', 'isascii', 'isdecimal', 'isdigit', 'isidentifier', 'islower', 'isnumeric', 'isprintable', 'isspace', 'istitle', 'isupper', 'join', 'ljust', 'lower', 'lstrip', 'maketrans', 'partition', 'removeprefix', 'removesuffix', 'replace', 'rfind', 'rindex', 'rjust', 'rpartition', 'rsplit', 'rstrip', 'split', 'splitlines', 'startswith', 'strip', 'swapcase', 'title', 'translate', 'upper', 'zfill']\n"
          ]
        }
      ]
    },
    {
      "cell_type": "markdown",
      "source": [
        "#UNKNOWN\n",
        "\n",
        "An intro into first class functions and higher order functions. Functions can be assigned a variable name\n",
        "We will look into decorators later"
      ],
      "metadata": {
        "id": "aJKV1W0-4pEE"
      }
    },
    {
      "cell_type": "code",
      "source": [
        "def square(x):\n",
        "  return x*x\n",
        "\n",
        "def my_map(func,arg_list):\n",
        "  result = []\n",
        "  for i in arg_list:\n",
        "    result.append(func(i))\n",
        "  return result\n",
        "\n",
        "squares = my_map(square, [1,3,2,4])\n",
        "\n",
        "def cube(x):\n",
        "  return x*x*x\n",
        "\n",
        "cubes = my_map(cube,[1,3,2,4])\n",
        "print(squares)\n",
        "print(cubes)\n",
        "\n",
        "\n",
        "f  = square\n",
        "print(f)\n",
        "f  = cube\n",
        "print(f)"
      ],
      "metadata": {
        "colab": {
          "base_uri": "https://localhost:8080/"
        },
        "id": "FUGlPn_T48lz",
        "outputId": "5c8e8b04-cb76-4ed6-b712-fd7a2ecf4678"
      },
      "execution_count": null,
      "outputs": [
        {
          "output_type": "stream",
          "name": "stdout",
          "text": [
            "[1, 9, 4, 16]\n",
            "[1, 27, 8, 64]\n",
            "<function square at 0x7d3a651d2b00>\n",
            "<function cube at 0x7d3a651d2200>\n"
          ]
        }
      ]
    },
    {
      "cell_type": "code",
      "source": [
        "def html_tag(tag):\n",
        "\n",
        "  def wrap(msg):\n",
        "    print(f'<{tag}>{msg}</{tag}>')\n",
        "\n",
        "  return wrap\n",
        "\n",
        "print_h  = html_tag('https')\n",
        "print_h('Good morning America')"
      ],
      "metadata": {
        "colab": {
          "base_uri": "https://localhost:8080/"
        },
        "id": "WT_rl-lz7puN",
        "outputId": "70a1a3b7-0fb0-4ce5-9929-786ed2dd6088"
      },
      "execution_count": null,
      "outputs": [
        {
          "output_type": "stream",
          "name": "stdout",
          "text": [
            "<https>Good morning America</https>\n"
          ]
        }
      ]
    },
    {
      "cell_type": "code",
      "source": [
        "def outer_func():\n",
        "  message = 'HI'\n",
        "  def inner_func():\n",
        "    print(message)\n",
        "  return inner_func\n",
        "\n",
        "my_func = outer_func\n",
        "\n",
        "my_func()\n",
        "\n",
        "#a function object that remembers values in enclosing scopes even if they are not present in memory"
      ],
      "metadata": {
        "colab": {
          "base_uri": "https://localhost:8080/"
        },
        "id": "OB5EvN-SpT50",
        "outputId": "2df35109-7d39-45ae-a16d-b258c6ad9adc"
      },
      "execution_count": null,
      "outputs": [
        {
          "output_type": "execute_result",
          "data": {
            "text/plain": [
              "<function __main__.outer_func.<locals>.inner_func()>"
            ]
          },
          "metadata": {},
          "execution_count": 1
        }
      ]
    },
    {
      "cell_type": "code",
      "source": [
        "def outer_func(msg):\n",
        "  message = msg\n",
        "  def inner_func():\n",
        "    print(message)\n",
        "  return inner_func\n",
        "\n",
        "hi_func = outer_func('Hi')\n",
        "hello_func = outer_func('Hello')\n",
        "\n",
        "hi_func()\n",
        "hello_func()\n"
      ],
      "metadata": {
        "id": "maj5NdzAsDr8"
      },
      "execution_count": null,
      "outputs": []
    },
    {
      "cell_type": "code",
      "source": [
        "import logging\n",
        "logging.basicConfig(filename='example_closure.log',level = logging.INFO)\n",
        "\n",
        "def logger(func):\n",
        "  def log_func(*args):\n",
        "    logging.info(f'Running\"{func.__name__} with arrguments {args}')\n",
        "    print(func(*args))\n",
        "  return log_func\n",
        "\n",
        "def add(x,y):\n",
        "  return x+y\n",
        "\n",
        "def sub(x,y):\n",
        "  return x-y\n",
        "\n",
        "add_logger = logger(add)\n",
        "sub_logger = logger(sub)\n",
        "\n",
        "add_logger(5,7)\n",
        "add_logger(4,10)\n",
        "\n",
        "sub_logger(5,7)\n",
        "sub_logger(4,10)"
      ],
      "metadata": {
        "colab": {
          "base_uri": "https://localhost:8080/"
        },
        "id": "3GNP6gvztoj1",
        "outputId": "1b86c4ef-440e-47b6-f6fc-6c1d7596eb66"
      },
      "execution_count": null,
      "outputs": [
        {
          "output_type": "stream",
          "name": "stdout",
          "text": [
            "12\n",
            "14\n",
            "-2\n",
            "-6\n"
          ]
        }
      ]
    },
    {
      "cell_type": "markdown",
      "source": [
        "#Memoization\n",
        "In computing, memoization or memoisation is an optimization technique used primarily to speed up computer programs by storing the results of expensive function calls to pure functions and returning the cached result when the same inputs occur again."
      ],
      "metadata": {
        "id": "yXX2fPuS1yme"
      }
    },
    {
      "cell_type": "code",
      "source": [
        "import time\n",
        "\n",
        "def expensive_func(num):\n",
        "  print(f\"Computing {num}....\")\n",
        "  time.sleep(20)\n",
        "  return num*num\n",
        "\n",
        "start = time.process_time()\n",
        "result = expensive_func(4)\n",
        "print (result)\n",
        "print(time.process_time() - start)\n",
        "result = expensive_func(4)\n",
        "print (result)\n",
        "print(time.process_time() - start)\n",
        "result = expensive_func(4)\n",
        "print (result)\n",
        "print(time.process_time() - start)\n",
        "result = expensive_func(4)\n",
        "print (result)\n",
        "print(time.process_time() - start)"
      ],
      "metadata": {
        "colab": {
          "base_uri": "https://localhost:8080/"
        },
        "id": "IhG2OZgF1-PJ",
        "outputId": "55dc523c-39da-4100-e36a-03e6c79ab98e"
      },
      "execution_count": null,
      "outputs": [
        {
          "output_type": "stream",
          "name": "stdout",
          "text": [
            "Computing 4....\n",
            "16\n",
            "0.08019738799999843\n",
            "Computing 4....\n",
            "16\n",
            "0.1559157440000014\n",
            "Computing 4....\n",
            "16\n",
            "0.23423130000000114\n",
            "Computing 4....\n",
            "16\n",
            "0.30849139600000086\n"
          ]
        }
      ]
    },
    {
      "cell_type": "code",
      "source": [
        "import time\n",
        "ef_cache = {}\n",
        "def expensive_func(num):\n",
        "  if num in ef_cache:\n",
        "    return ef_cache[num]\n",
        "\n",
        "  print(f\"Computing {num}....\")\n",
        "  time.sleep(20)\n",
        "  result = num*num\n",
        "  ef_cache[num] = result\n",
        "  return result\n",
        "\n",
        "start = time.process_time()\n",
        "result = expensive_func(4)\n",
        "print (result)\n",
        "print(time.process_time() - start)\n",
        "result = expensive_func(4)\n",
        "print (result)\n",
        "print(time.process_time() - start)"
      ],
      "metadata": {
        "colab": {
          "base_uri": "https://localhost:8080/"
        },
        "id": "3VDPIG01HTQO",
        "outputId": "48727109-4b1d-4097-88bd-c73f1bf2ff0b"
      },
      "execution_count": null,
      "outputs": [
        {
          "output_type": "stream",
          "name": "stdout",
          "text": [
            "Computing 4....\n",
            "16\n",
            "0.0748410619999973\n",
            "16\n",
            "0.07499016199999886\n"
          ]
        }
      ]
    },
    {
      "cell_type": "markdown",
      "source": [
        "display = decorator_function(display) <==> @decorator_function"
      ],
      "metadata": {
        "id": "M9jsqxcrUNqJ"
      }
    },
    {
      "cell_type": "code",
      "source": [
        "def decorator_function(original_function):\n",
        "  def wrapper_function(*args,**kwargs):\n",
        "    print(\"Wrapper function\")\n",
        "    return original_function()\n",
        "  return wrapper_function\n",
        "\n",
        "@decorator_function\n",
        "def display():\n",
        "  print('display function was run')\n",
        "\n",
        "display()"
      ],
      "metadata": {
        "colab": {
          "base_uri": "https://localhost:8080/"
        },
        "id": "nrx6tGkMUdpG",
        "outputId": "3623cc5a-9c83-4be9-b991-37b399e2c45c"
      },
      "execution_count": null,
      "outputs": [
        {
          "output_type": "stream",
          "name": "stdout",
          "text": [
            "Wrapper function\n",
            "display function was run\n"
          ]
        }
      ]
    },
    {
      "cell_type": "code",
      "source": [
        "class decorator_class(object):\n",
        "\n",
        "  def __init__(self,original_function):\n",
        "    self.original_function = original_function\n",
        "\n",
        "  def __call__(self,*args,**kwargs):\n",
        "    print(f'Call is executed before {self.original_function.__name__}')\n",
        "    return self.original_function(*args,**kwargs)\n",
        "\n",
        "@decorator_class\n",
        "def display_name(name,age):\n",
        "  print(f'display_name with args {name} and {age} was executed')\n",
        "\n",
        "display_name('John',24)\n"
      ],
      "metadata": {
        "colab": {
          "base_uri": "https://localhost:8080/"
        },
        "id": "ZBtv5H4V-ZeJ",
        "outputId": "8185a850-ca77-46bb-b94b-55c14c978111"
      },
      "execution_count": null,
      "outputs": [
        {
          "output_type": "stream",
          "name": "stdout",
          "text": [
            "Call is executed before display_name\n",
            "display_name with args John and 24 was executed\n"
          ]
        }
      ]
    },
    {
      "cell_type": "code",
      "source": [],
      "metadata": {
        "id": "btB83TsqB51i"
      },
      "execution_count": null,
      "outputs": []
    }
  ]
}