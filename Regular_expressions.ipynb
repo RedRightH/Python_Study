{
  "nbformat": 4,
  "nbformat_minor": 0,
  "metadata": {
    "colab": {
      "provenance": [],
      "authorship_tag": "ABX9TyNKQOjIaPeRjLSZbGF8NdML",
      "include_colab_link": true
    },
    "kernelspec": {
      "name": "python3",
      "display_name": "Python 3"
    },
    "language_info": {
      "name": "python"
    }
  },
  "cells": [
    {
      "cell_type": "markdown",
      "metadata": {
        "id": "view-in-github",
        "colab_type": "text"
      },
      "source": [
        "<a href=\"https://colab.research.google.com/github/RedRightH/Python_Study/blob/main/Regular_expressions.ipynb\" target=\"_parent\"><img src=\"https://colab.research.google.com/assets/colab-badge.svg\" alt=\"Open In Colab\"/></a>"
      ]
    },
    {
      "cell_type": "markdown",
      "source": [
        "Referenced this video https://www.youtube.com/watch?v=K8L6KVGG-7o"
      ],
      "metadata": {
        "id": "JXPSiPHIc4Zi"
      }
    },
    {
      "cell_type": "code",
      "execution_count": 44,
      "metadata": {
        "colab": {
          "base_uri": "https://localhost:8080/"
        },
        "id": "b8spkDGwiPwW",
        "outputId": "8232d78a-48aa-409b-c6d6-ab670fed98db"
      },
      "outputs": [
        {
          "output_type": "stream",
          "name": "stdout",
          "text": [
            "\n",
            " New Line\n",
            "\\n Next line\n"
          ]
        }
      ],
      "source": [
        "import re\n",
        "# raw string\n",
        "\n",
        "sentence = 'Brandy this your first time working with regular expressions ##212BB&as&*9'\n",
        "text = ''' Blossoms come ssailing down through the streets and through the playground morning bird\n",
        "\n",
        "You never read a single word\n",
        "Mr.Hennessey +044 8291088231 www.hennessey.org\n",
        "Mrs.Coalgate +102 8923113212 www.coalgate.com\n",
        "+91 8317506232\n",
        "www.google.com\n",
        "www.yahoo.com\n",
        "www.gemini.com\n",
        "\n",
        "#121 B Blender Street, West Kingston, Kentely\n",
        "'''\n",
        "\n",
        "print('\\n New Line')\n",
        "print(r'\\n Next line')"
      ]
    },
    {
      "cell_type": "code",
      "source": [
        "pattern = re.compile(r'the')\n",
        "matches = pattern.finditer(text)\n",
        "\n",
        "for match in matches:\n",
        "  print(match)\n",
        "\n",
        "print(text[37:40])"
      ],
      "metadata": {
        "colab": {
          "base_uri": "https://localhost:8080/"
        },
        "id": "vxpLNIoQlKZW",
        "outputId": "c5eaa35a-07a8-47fd-e808-73a9134b4c84"
      },
      "execution_count": null,
      "outputs": [
        {
          "output_type": "stream",
          "name": "stdout",
          "text": [
            "<re.Match object; span=(37, 40), match='the'>\n",
            "<re.Match object; span=(61, 64), match='the'>\n",
            "the\n"
          ]
        }
      ]
    },
    {
      "cell_type": "code",
      "source": [
        "# \\d  = Digit (0-9)\n",
        "# \\D  = not Digit\n",
        "# \\w  = characters (0-9 a-z A-Z)\n",
        "# \\W = not characters\n",
        "# \\s = whitespaces\n",
        "# \\S = not whitespaces\n",
        "\n",
        "# \\b  = word Boundry\n",
        "# \\B  = Word boundry\n",
        "\n",
        "pattern = re.compile(r'\\w')\n",
        "matches = pattern.finditer(text)\n",
        "\n",
        "pattern = re.compile(r'\\d')\n",
        "matches1 = pattern.finditer(text)\n",
        "\n",
        "for match in matches:\n",
        "  print(match)\n",
        "\n",
        "print(\" \\n \\n \\n \\n \\n\")\n",
        "\n",
        "for match1 in matches1:\n",
        "  print(match1)\n",
        "\n"
      ],
      "metadata": {
        "colab": {
          "base_uri": "https://localhost:8080/"
        },
        "id": "70Z-9u-R2xXl",
        "outputId": "af0100d8-c43a-483b-c3a0-7ed53408d533"
      },
      "execution_count": null,
      "outputs": [
        {
          "output_type": "stream",
          "name": "stdout",
          "text": [
            "<re.Match object; span=(1, 2), match='B'>\n",
            "<re.Match object; span=(2, 3), match='l'>\n",
            "<re.Match object; span=(3, 4), match='o'>\n",
            "<re.Match object; span=(4, 5), match='s'>\n",
            "<re.Match object; span=(5, 6), match='s'>\n",
            "<re.Match object; span=(6, 7), match='o'>\n",
            "<re.Match object; span=(7, 8), match='m'>\n",
            "<re.Match object; span=(8, 9), match='s'>\n",
            "<re.Match object; span=(10, 11), match='c'>\n",
            "<re.Match object; span=(11, 12), match='o'>\n",
            "<re.Match object; span=(12, 13), match='m'>\n",
            "<re.Match object; span=(13, 14), match='e'>\n",
            "<re.Match object; span=(15, 16), match='s'>\n",
            "<re.Match object; span=(16, 17), match='s'>\n",
            "<re.Match object; span=(17, 18), match='a'>\n",
            "<re.Match object; span=(18, 19), match='i'>\n",
            "<re.Match object; span=(19, 20), match='l'>\n",
            "<re.Match object; span=(20, 21), match='i'>\n",
            "<re.Match object; span=(21, 22), match='n'>\n",
            "<re.Match object; span=(22, 23), match='g'>\n",
            "<re.Match object; span=(24, 25), match='d'>\n",
            "<re.Match object; span=(25, 26), match='o'>\n",
            "<re.Match object; span=(26, 27), match='w'>\n",
            "<re.Match object; span=(27, 28), match='n'>\n",
            "<re.Match object; span=(29, 30), match='t'>\n",
            "<re.Match object; span=(30, 31), match='h'>\n",
            "<re.Match object; span=(31, 32), match='r'>\n",
            "<re.Match object; span=(32, 33), match='o'>\n",
            "<re.Match object; span=(33, 34), match='u'>\n",
            "<re.Match object; span=(34, 35), match='g'>\n",
            "<re.Match object; span=(35, 36), match='h'>\n",
            "<re.Match object; span=(37, 38), match='t'>\n",
            "<re.Match object; span=(38, 39), match='h'>\n",
            "<re.Match object; span=(39, 40), match='e'>\n",
            "<re.Match object; span=(41, 42), match='s'>\n",
            "<re.Match object; span=(42, 43), match='t'>\n",
            "<re.Match object; span=(43, 44), match='r'>\n",
            "<re.Match object; span=(44, 45), match='e'>\n",
            "<re.Match object; span=(45, 46), match='e'>\n",
            "<re.Match object; span=(46, 47), match='t'>\n",
            "<re.Match object; span=(47, 48), match='s'>\n",
            "<re.Match object; span=(49, 50), match='a'>\n",
            "<re.Match object; span=(50, 51), match='n'>\n",
            "<re.Match object; span=(51, 52), match='d'>\n",
            "<re.Match object; span=(53, 54), match='t'>\n",
            "<re.Match object; span=(54, 55), match='h'>\n",
            "<re.Match object; span=(55, 56), match='r'>\n",
            "<re.Match object; span=(56, 57), match='o'>\n",
            "<re.Match object; span=(57, 58), match='u'>\n",
            "<re.Match object; span=(58, 59), match='g'>\n",
            "<re.Match object; span=(59, 60), match='h'>\n",
            "<re.Match object; span=(61, 62), match='t'>\n",
            "<re.Match object; span=(62, 63), match='h'>\n",
            "<re.Match object; span=(63, 64), match='e'>\n",
            "<re.Match object; span=(65, 66), match='p'>\n",
            "<re.Match object; span=(66, 67), match='l'>\n",
            "<re.Match object; span=(67, 68), match='a'>\n",
            "<re.Match object; span=(68, 69), match='y'>\n",
            "<re.Match object; span=(69, 70), match='g'>\n",
            "<re.Match object; span=(70, 71), match='r'>\n",
            "<re.Match object; span=(71, 72), match='o'>\n",
            "<re.Match object; span=(72, 73), match='u'>\n",
            "<re.Match object; span=(73, 74), match='n'>\n",
            "<re.Match object; span=(74, 75), match='d'>\n",
            "<re.Match object; span=(76, 77), match='m'>\n",
            "<re.Match object; span=(77, 78), match='o'>\n",
            "<re.Match object; span=(78, 79), match='r'>\n",
            "<re.Match object; span=(79, 80), match='n'>\n",
            "<re.Match object; span=(80, 81), match='i'>\n",
            "<re.Match object; span=(81, 82), match='n'>\n",
            "<re.Match object; span=(82, 83), match='g'>\n",
            "<re.Match object; span=(84, 85), match='b'>\n",
            "<re.Match object; span=(85, 86), match='i'>\n",
            "<re.Match object; span=(86, 87), match='r'>\n",
            "<re.Match object; span=(87, 88), match='d'>\n",
            "<re.Match object; span=(90, 91), match='Y'>\n",
            "<re.Match object; span=(91, 92), match='o'>\n",
            "<re.Match object; span=(92, 93), match='u'>\n",
            "<re.Match object; span=(94, 95), match='n'>\n",
            "<re.Match object; span=(95, 96), match='e'>\n",
            "<re.Match object; span=(96, 97), match='v'>\n",
            "<re.Match object; span=(97, 98), match='e'>\n",
            "<re.Match object; span=(98, 99), match='r'>\n",
            "<re.Match object; span=(100, 101), match='r'>\n",
            "<re.Match object; span=(101, 102), match='e'>\n",
            "<re.Match object; span=(102, 103), match='a'>\n",
            "<re.Match object; span=(103, 104), match='d'>\n",
            "<re.Match object; span=(105, 106), match='a'>\n",
            "<re.Match object; span=(107, 108), match='s'>\n",
            "<re.Match object; span=(108, 109), match='i'>\n",
            "<re.Match object; span=(109, 110), match='n'>\n",
            "<re.Match object; span=(110, 111), match='g'>\n",
            "<re.Match object; span=(111, 112), match='l'>\n",
            "<re.Match object; span=(112, 113), match='e'>\n",
            "<re.Match object; span=(114, 115), match='w'>\n",
            "<re.Match object; span=(115, 116), match='o'>\n",
            "<re.Match object; span=(116, 117), match='r'>\n",
            "<re.Match object; span=(117, 118), match='d'>\n",
            "<re.Match object; span=(119, 120), match='M'>\n",
            "<re.Match object; span=(120, 121), match='r'>\n",
            "<re.Match object; span=(122, 123), match='H'>\n",
            "<re.Match object; span=(123, 124), match='e'>\n",
            "<re.Match object; span=(124, 125), match='n'>\n",
            "<re.Match object; span=(125, 126), match='n'>\n",
            "<re.Match object; span=(126, 127), match='e'>\n",
            "<re.Match object; span=(127, 128), match='s'>\n",
            "<re.Match object; span=(128, 129), match='s'>\n",
            "<re.Match object; span=(129, 130), match='e'>\n",
            "<re.Match object; span=(130, 131), match='y'>\n",
            "<re.Match object; span=(133, 134), match='0'>\n",
            "<re.Match object; span=(134, 135), match='4'>\n",
            "<re.Match object; span=(135, 136), match='4'>\n",
            "<re.Match object; span=(137, 138), match='8'>\n",
            "<re.Match object; span=(138, 139), match='2'>\n",
            "<re.Match object; span=(139, 140), match='9'>\n",
            "<re.Match object; span=(140, 141), match='1'>\n",
            "<re.Match object; span=(141, 142), match='0'>\n",
            "<re.Match object; span=(142, 143), match='8'>\n",
            "<re.Match object; span=(143, 144), match='8'>\n",
            "<re.Match object; span=(144, 145), match='2'>\n",
            "<re.Match object; span=(145, 146), match='3'>\n",
            "<re.Match object; span=(146, 147), match='1'>\n",
            "<re.Match object; span=(148, 149), match='w'>\n",
            "<re.Match object; span=(149, 150), match='w'>\n",
            "<re.Match object; span=(150, 151), match='w'>\n",
            "<re.Match object; span=(152, 153), match='h'>\n",
            "<re.Match object; span=(153, 154), match='e'>\n",
            "<re.Match object; span=(154, 155), match='n'>\n",
            "<re.Match object; span=(155, 156), match='n'>\n",
            "<re.Match object; span=(156, 157), match='e'>\n",
            "<re.Match object; span=(157, 158), match='s'>\n",
            "<re.Match object; span=(158, 159), match='s'>\n",
            "<re.Match object; span=(159, 160), match='e'>\n",
            "<re.Match object; span=(160, 161), match='y'>\n",
            "<re.Match object; span=(162, 163), match='o'>\n",
            "<re.Match object; span=(163, 164), match='r'>\n",
            "<re.Match object; span=(164, 165), match='g'>\n",
            "<re.Match object; span=(166, 167), match='M'>\n",
            "<re.Match object; span=(167, 168), match='r'>\n",
            "<re.Match object; span=(168, 169), match='s'>\n",
            "<re.Match object; span=(170, 171), match='C'>\n",
            "<re.Match object; span=(171, 172), match='o'>\n",
            "<re.Match object; span=(172, 173), match='a'>\n",
            "<re.Match object; span=(173, 174), match='l'>\n",
            "<re.Match object; span=(174, 175), match='g'>\n",
            "<re.Match object; span=(175, 176), match='a'>\n",
            "<re.Match object; span=(176, 177), match='t'>\n",
            "<re.Match object; span=(177, 178), match='e'>\n",
            "<re.Match object; span=(180, 181), match='1'>\n",
            "<re.Match object; span=(181, 182), match='0'>\n",
            "<re.Match object; span=(182, 183), match='2'>\n",
            "<re.Match object; span=(184, 185), match='8'>\n",
            "<re.Match object; span=(185, 186), match='9'>\n",
            "<re.Match object; span=(186, 187), match='2'>\n",
            "<re.Match object; span=(187, 188), match='3'>\n",
            "<re.Match object; span=(188, 189), match='1'>\n",
            "<re.Match object; span=(189, 190), match='1'>\n",
            "<re.Match object; span=(190, 191), match='3'>\n",
            "<re.Match object; span=(191, 192), match='2'>\n",
            "<re.Match object; span=(192, 193), match='1'>\n",
            "<re.Match object; span=(193, 194), match='2'>\n",
            "<re.Match object; span=(195, 196), match='w'>\n",
            "<re.Match object; span=(196, 197), match='w'>\n",
            "<re.Match object; span=(197, 198), match='w'>\n",
            "<re.Match object; span=(199, 200), match='c'>\n",
            "<re.Match object; span=(200, 201), match='o'>\n",
            "<re.Match object; span=(201, 202), match='a'>\n",
            "<re.Match object; span=(202, 203), match='l'>\n",
            "<re.Match object; span=(203, 204), match='g'>\n",
            "<re.Match object; span=(204, 205), match='a'>\n",
            "<re.Match object; span=(205, 206), match='t'>\n",
            "<re.Match object; span=(206, 207), match='e'>\n",
            "<re.Match object; span=(208, 209), match='c'>\n",
            "<re.Match object; span=(209, 210), match='o'>\n",
            "<re.Match object; span=(210, 211), match='m'>\n",
            "<re.Match object; span=(213, 214), match='w'>\n",
            "<re.Match object; span=(214, 215), match='w'>\n",
            "<re.Match object; span=(215, 216), match='w'>\n",
            "<re.Match object; span=(217, 218), match='g'>\n",
            "<re.Match object; span=(218, 219), match='o'>\n",
            "<re.Match object; span=(219, 220), match='o'>\n",
            "<re.Match object; span=(220, 221), match='g'>\n",
            "<re.Match object; span=(221, 222), match='l'>\n",
            "<re.Match object; span=(222, 223), match='e'>\n",
            "<re.Match object; span=(224, 225), match='c'>\n",
            "<re.Match object; span=(225, 226), match='o'>\n",
            "<re.Match object; span=(226, 227), match='m'>\n",
            "<re.Match object; span=(228, 229), match='w'>\n",
            "<re.Match object; span=(229, 230), match='w'>\n",
            "<re.Match object; span=(230, 231), match='w'>\n",
            "<re.Match object; span=(232, 233), match='y'>\n",
            "<re.Match object; span=(233, 234), match='a'>\n",
            "<re.Match object; span=(234, 235), match='h'>\n",
            "<re.Match object; span=(235, 236), match='o'>\n",
            "<re.Match object; span=(236, 237), match='o'>\n",
            "<re.Match object; span=(238, 239), match='c'>\n",
            "<re.Match object; span=(239, 240), match='o'>\n",
            "<re.Match object; span=(240, 241), match='m'>\n",
            "<re.Match object; span=(242, 243), match='w'>\n",
            "<re.Match object; span=(243, 244), match='w'>\n",
            "<re.Match object; span=(244, 245), match='w'>\n",
            "<re.Match object; span=(246, 247), match='g'>\n",
            "<re.Match object; span=(247, 248), match='e'>\n",
            "<re.Match object; span=(248, 249), match='m'>\n",
            "<re.Match object; span=(249, 250), match='i'>\n",
            "<re.Match object; span=(250, 251), match='n'>\n",
            "<re.Match object; span=(251, 252), match='i'>\n",
            "<re.Match object; span=(253, 254), match='c'>\n",
            "<re.Match object; span=(254, 255), match='o'>\n",
            "<re.Match object; span=(255, 256), match='m'>\n",
            "<re.Match object; span=(259, 260), match='1'>\n",
            "<re.Match object; span=(260, 261), match='2'>\n",
            "<re.Match object; span=(261, 262), match='1'>\n",
            "<re.Match object; span=(263, 264), match='B'>\n",
            "<re.Match object; span=(265, 266), match='B'>\n",
            "<re.Match object; span=(266, 267), match='l'>\n",
            "<re.Match object; span=(267, 268), match='e'>\n",
            "<re.Match object; span=(268, 269), match='n'>\n",
            "<re.Match object; span=(269, 270), match='d'>\n",
            "<re.Match object; span=(270, 271), match='e'>\n",
            "<re.Match object; span=(271, 272), match='r'>\n",
            "<re.Match object; span=(273, 274), match='S'>\n",
            "<re.Match object; span=(274, 275), match='t'>\n",
            "<re.Match object; span=(275, 276), match='r'>\n",
            "<re.Match object; span=(276, 277), match='e'>\n",
            "<re.Match object; span=(277, 278), match='e'>\n",
            "<re.Match object; span=(278, 279), match='t'>\n",
            "<re.Match object; span=(281, 282), match='W'>\n",
            "<re.Match object; span=(282, 283), match='e'>\n",
            "<re.Match object; span=(283, 284), match='s'>\n",
            "<re.Match object; span=(284, 285), match='t'>\n",
            "<re.Match object; span=(286, 287), match='K'>\n",
            "<re.Match object; span=(287, 288), match='i'>\n",
            "<re.Match object; span=(288, 289), match='n'>\n",
            "<re.Match object; span=(289, 290), match='g'>\n",
            "<re.Match object; span=(290, 291), match='s'>\n",
            "<re.Match object; span=(291, 292), match='t'>\n",
            "<re.Match object; span=(292, 293), match='o'>\n",
            "<re.Match object; span=(293, 294), match='n'>\n",
            "<re.Match object; span=(296, 297), match='K'>\n",
            "<re.Match object; span=(297, 298), match='e'>\n",
            "<re.Match object; span=(298, 299), match='n'>\n",
            "<re.Match object; span=(299, 300), match='t'>\n",
            "<re.Match object; span=(300, 301), match='e'>\n",
            "<re.Match object; span=(301, 302), match='l'>\n",
            "<re.Match object; span=(302, 303), match='y'>\n",
            " \n",
            " \n",
            " \n",
            " \n",
            " \n",
            "\n",
            "<re.Match object; span=(133, 134), match='0'>\n",
            "<re.Match object; span=(134, 135), match='4'>\n",
            "<re.Match object; span=(135, 136), match='4'>\n",
            "<re.Match object; span=(137, 138), match='8'>\n",
            "<re.Match object; span=(138, 139), match='2'>\n",
            "<re.Match object; span=(139, 140), match='9'>\n",
            "<re.Match object; span=(140, 141), match='1'>\n",
            "<re.Match object; span=(141, 142), match='0'>\n",
            "<re.Match object; span=(142, 143), match='8'>\n",
            "<re.Match object; span=(143, 144), match='8'>\n",
            "<re.Match object; span=(144, 145), match='2'>\n",
            "<re.Match object; span=(145, 146), match='3'>\n",
            "<re.Match object; span=(146, 147), match='1'>\n",
            "<re.Match object; span=(180, 181), match='1'>\n",
            "<re.Match object; span=(181, 182), match='0'>\n",
            "<re.Match object; span=(182, 183), match='2'>\n",
            "<re.Match object; span=(184, 185), match='8'>\n",
            "<re.Match object; span=(185, 186), match='9'>\n",
            "<re.Match object; span=(186, 187), match='2'>\n",
            "<re.Match object; span=(187, 188), match='3'>\n",
            "<re.Match object; span=(188, 189), match='1'>\n",
            "<re.Match object; span=(189, 190), match='1'>\n",
            "<re.Match object; span=(190, 191), match='3'>\n",
            "<re.Match object; span=(191, 192), match='2'>\n",
            "<re.Match object; span=(192, 193), match='1'>\n",
            "<re.Match object; span=(193, 194), match='2'>\n",
            "<re.Match object; span=(259, 260), match='1'>\n",
            "<re.Match object; span=(260, 261), match='2'>\n",
            "<re.Match object; span=(261, 262), match='1'>\n"
          ]
        }
      ]
    },
    {
      "cell_type": "code",
      "source": [
        "pattern = re.compile(r'\\.com')\n",
        "matchesa = pattern.finditer(text)\n",
        "\n",
        "for match in matchesa:\n",
        "  print(match)\n"
      ],
      "metadata": {
        "colab": {
          "base_uri": "https://localhost:8080/"
        },
        "id": "smvrU9ncadr0",
        "outputId": "708a79fc-eeaf-4f7e-d205-ebfff155e237"
      },
      "execution_count": null,
      "outputs": [
        {
          "output_type": "stream",
          "name": "stdout",
          "text": [
            "<re.Match object; span=(207, 211), match='.com'>\n",
            "<re.Match object; span=(223, 227), match='.com'>\n",
            "<re.Match object; span=(237, 241), match='.com'>\n",
            "<re.Match object; span=(252, 256), match='.com'>\n"
          ]
        }
      ]
    },
    {
      "cell_type": "code",
      "source": [
        "pattern = re.compile(r'.\\w\\w\\w')\n",
        "matchesa = pattern.finditer(text)\n",
        "\n",
        "for match in matchesa:\n",
        "  print(match)"
      ],
      "metadata": {
        "colab": {
          "base_uri": "https://localhost:8080/"
        },
        "id": "QzzR3KRUfTXp",
        "outputId": "fd293d61-6645-4d21-9528-2ffc139ef305"
      },
      "execution_count": null,
      "outputs": [
        {
          "output_type": "stream",
          "name": "stdout",
          "text": [
            "<re.Match object; span=(0, 4), match=' Blo'>\n",
            "<re.Match object; span=(4, 8), match='ssom'>\n",
            "<re.Match object; span=(9, 13), match=' com'>\n",
            "<re.Match object; span=(14, 18), match=' ssa'>\n",
            "<re.Match object; span=(18, 22), match='ilin'>\n",
            "<re.Match object; span=(23, 27), match=' dow'>\n",
            "<re.Match object; span=(28, 32), match=' thr'>\n",
            "<re.Match object; span=(32, 36), match='ough'>\n",
            "<re.Match object; span=(36, 40), match=' the'>\n",
            "<re.Match object; span=(40, 44), match=' str'>\n",
            "<re.Match object; span=(44, 48), match='eets'>\n",
            "<re.Match object; span=(48, 52), match=' and'>\n",
            "<re.Match object; span=(52, 56), match=' thr'>\n",
            "<re.Match object; span=(56, 60), match='ough'>\n",
            "<re.Match object; span=(60, 64), match=' the'>\n",
            "<re.Match object; span=(64, 68), match=' pla'>\n",
            "<re.Match object; span=(68, 72), match='ygro'>\n",
            "<re.Match object; span=(75, 79), match=' mor'>\n",
            "<re.Match object; span=(79, 83), match='ning'>\n",
            "<re.Match object; span=(83, 87), match=' bir'>\n",
            "<re.Match object; span=(93, 97), match=' nev'>\n",
            "<re.Match object; span=(99, 103), match=' rea'>\n",
            "<re.Match object; span=(106, 110), match=' sin'>\n",
            "<re.Match object; span=(113, 117), match=' wor'>\n",
            "<re.Match object; span=(121, 125), match='.Hen'>\n",
            "<re.Match object; span=(125, 129), match='ness'>\n",
            "<re.Match object; span=(132, 136), match='+044'>\n",
            "<re.Match object; span=(136, 140), match=' 829'>\n",
            "<re.Match object; span=(140, 144), match='1088'>\n",
            "<re.Match object; span=(147, 151), match=' www'>\n",
            "<re.Match object; span=(151, 155), match='.hen'>\n",
            "<re.Match object; span=(155, 159), match='ness'>\n",
            "<re.Match object; span=(161, 165), match='.org'>\n",
            "<re.Match object; span=(169, 173), match='.Coa'>\n",
            "<re.Match object; span=(173, 177), match='lgat'>\n",
            "<re.Match object; span=(179, 183), match='+102'>\n",
            "<re.Match object; span=(183, 187), match=' 892'>\n",
            "<re.Match object; span=(187, 191), match='3113'>\n",
            "<re.Match object; span=(194, 198), match=' www'>\n",
            "<re.Match object; span=(198, 202), match='.coa'>\n",
            "<re.Match object; span=(202, 206), match='lgat'>\n",
            "<re.Match object; span=(207, 211), match='.com'>\n",
            "<re.Match object; span=(216, 220), match='.goo'>\n",
            "<re.Match object; span=(223, 227), match='.com'>\n",
            "<re.Match object; span=(231, 235), match='.yah'>\n",
            "<re.Match object; span=(237, 241), match='.com'>\n",
            "<re.Match object; span=(245, 249), match='.gem'>\n",
            "<re.Match object; span=(252, 256), match='.com'>\n",
            "<re.Match object; span=(258, 262), match='#121'>\n",
            "<re.Match object; span=(264, 268), match=' Ble'>\n",
            "<re.Match object; span=(268, 272), match='nder'>\n",
            "<re.Match object; span=(272, 276), match=' Str'>\n",
            "<re.Match object; span=(280, 284), match=' Wes'>\n",
            "<re.Match object; span=(285, 289), match=' Kin'>\n",
            "<re.Match object; span=(289, 293), match='gsto'>\n",
            "<re.Match object; span=(295, 299), match=' Ken'>\n",
            "<re.Match object; span=(299, 303), match='tely'>\n"
          ]
        }
      ]
    },
    {
      "cell_type": "code",
      "source": [
        "text1 = ''' bertie@gmail.com - Mr. Wooster\n",
        "            tuppy@gmail.com - Mr. Hilbert\n",
        "            rome@hotmaiil.com Mrs. Rome\n",
        "            magnus@yahoo.in  - Mr. Carlsen\n",
        "            wesley@yahoho.in  Ms.Wesley\n",
        "            hilda@fet.fed\n",
        "            petra@swiss.cat\n",
        "            check@this.out\n",
        "            '''\n",
        "pattern2 = re.compile(r'\\b[A-Za-z0-9._%+-]+@[A-Za-z0-9.-]+\\.(com|in)\\b')\n",
        "matches2 = pattern2.finditer(text1)\n",
        "\n",
        "for match in matches2:\n",
        "  print(match)"
      ],
      "metadata": {
        "colab": {
          "base_uri": "https://localhost:8080/"
        },
        "id": "A1F4M6FuOBEH",
        "outputId": "432d9685-4519-4d45-fc88-f5017a80f103"
      },
      "execution_count": 59,
      "outputs": [
        {
          "output_type": "stream",
          "name": "stdout",
          "text": [
            "<re.Match object; span=(1, 17), match='bertie@gmail.com'>\n",
            "<re.Match object; span=(44, 59), match='tuppy@gmail.com'>\n",
            "<re.Match object; span=(86, 103), match='rome@hotmaiil.com'>\n",
            "<re.Match object; span=(126, 141), match='magnus@yahoo.in'>\n",
            "<re.Match object; span=(169, 185), match='wesley@yahoho.in'>\n"
          ]
        }
      ]
    },
    {
      "cell_type": "code",
      "source": [
        "patternx = re.compile(r'\\+91 [8]')\n",
        "matchesx = patternx.finditer(text)\n",
        "\n",
        "for match in matchesx:\n",
        "  print(match)"
      ],
      "metadata": {
        "colab": {
          "base_uri": "https://localhost:8080/"
        },
        "id": "Je5ySU5aSSB2",
        "outputId": "c929d186-dcf0-4bdc-f163-7188d078af66"
      },
      "execution_count": 61,
      "outputs": [
        {
          "output_type": "stream",
          "name": "stdout",
          "text": [
            "<re.Match object; span=(212, 217), match='+91 8'>\n"
          ]
        }
      ]
    },
    {
      "cell_type": "code",
      "source": [
        "pattern3 = re.compile(r'\\d{10}')\n",
        "matches2 = pattern3.finditer(text)\n",
        "\n",
        "for match in matches2:\n",
        "  print(match)\n",
        "print('\\n\\n')\n",
        "pattern4 = re.compile(r'M(r|s|rs)')\n",
        "matches4 = pattern4.finditer(text1)\n",
        "\n",
        "for match in matches4:\n",
        "  print(match)"
      ],
      "metadata": {
        "colab": {
          "base_uri": "https://localhost:8080/"
        },
        "id": "csiSr9q9T8nk",
        "outputId": "a9d67729-e6d1-44f2-c432-9765c6c2be3b"
      },
      "execution_count": 60,
      "outputs": [
        {
          "output_type": "stream",
          "name": "stdout",
          "text": [
            "<re.Match object; span=(137, 147), match='8291088231'>\n",
            "<re.Match object; span=(184, 194), match='8923113212'>\n",
            "<re.Match object; span=(216, 226), match='8317506232'>\n",
            "\n",
            "\n",
            "\n",
            "<re.Match object; span=(20, 22), match='Mr'>\n",
            "<re.Match object; span=(62, 64), match='Mr'>\n",
            "<re.Match object; span=(104, 106), match='Mr'>\n",
            "<re.Match object; span=(145, 147), match='Mr'>\n",
            "<re.Match object; span=(187, 189), match='Ms'>\n"
          ]
        }
      ]
    },
    {
      "cell_type": "code",
      "source": [
        "urls = ''' https://www.google.com\n",
        "           https://brandywes.com\n",
        "           http://bing.com\n",
        "           https://www.isro.in'''\n",
        "\n",
        "pattern = re.compile((r'https?://(www\\.)?(\\w+)\\.(\\w+)'))\n",
        "matcher = pattern.finditer(urls)\n",
        "\n",
        "for matchs in matcher:\n",
        "  print(matchs.group(0))\n",
        "  print(matchs.group(1))\n",
        "  print(matchs.group(2))\n",
        "  print(matchs.group(3))\n",
        "\n",
        "sub_url = pattern.sub(r'\\2\\3',urls)\n",
        "print('\\n\\n', sub_url)\n",
        "\n",
        "\n",
        "#.findall - returns a list\n",
        "#.match -  checks the start\n",
        "#.search - only first match is printed"
      ],
      "metadata": {
        "colab": {
          "base_uri": "https://localhost:8080/"
        },
        "id": "N86aXL2CXtAx",
        "outputId": "59e628eb-12d7-4593-8a0e-9a38599eb7bd"
      },
      "execution_count": 69,
      "outputs": [
        {
          "output_type": "stream",
          "name": "stdout",
          "text": [
            "https://www.google.com\n",
            "www.\n",
            "google\n",
            "com\n",
            "https://brandywes.com\n",
            "None\n",
            "brandywes\n",
            "com\n",
            "http://bing.com\n",
            "None\n",
            "bing\n",
            "com\n",
            "https://www.isro.in\n",
            "www.\n",
            "isro\n",
            "in\n",
            "\n",
            "\n",
            "  googlecom\n",
            "           brandywescom\n",
            "           bingcom \n",
            "           isroin\n"
          ]
        }
      ]
    }
  ]
}